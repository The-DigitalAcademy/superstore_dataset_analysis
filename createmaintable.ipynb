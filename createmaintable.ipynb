{
 "cells": [
  {
   "cell_type": "markdown",
   "metadata": {
    "colab_type": "text",
    "id": "NFN_5br7SBGF"
   },
   "source": [
    "### Connecting to Postgresql"
   ]
  },
  {
   "cell_type": "code",
   "execution_count": null,
   "metadata": {},
   "outputs": [],
   "source": [
    "pip install sqlalchemy"
   ]
  },
  {
   "cell_type": "code",
   "execution_count": null,
   "metadata": {},
   "outputs": [],
   "source": [
    "pip install psycopg2-binary"
   ]
  },
  {
   "cell_type": "code",
   "execution_count": null,
   "metadata": {},
   "outputs": [],
   "source": [
    "%load_ext sql\n",
    "from sqlalchemy import create_engine\n",
    "%config SqlMagic.style = '_DEPRECATED_DEFAULT'"
   ]
  },
  {
   "cell_type": "code",
   "execution_count": null,
   "metadata": {},
   "outputs": [],
   "source": [
    "pip install ipython-sql"
   ]
  },
  {
   "cell_type": "code",
   "execution_count": 17,
   "metadata": {},
   "outputs": [],
   "source": [
    "%sql postgresql://postgres:@localhost:5432/superstoredb"
   ]
  },
  {
   "cell_type": "code",
   "execution_count": null,
   "metadata": {},
   "outputs": [],
   "source": [
    "%%sql\n",
    "\n",
    "CREATE TABLE SuperStore(\n",
    "    RowID INT PRIMARY KEY,\n",
    "    OrderID VARCHAR(14),\n",
    "    OrderDate DATE,\n",
    "    ShipDate DATE,\n",
    "    ShipMode VARCHAR(100),\n",
    "    CustomerID VARCHAR(8),\n",
    "    CustomerName VARCHAR(100),\n",
    "    Segment VARCHAR(50),\n",
    "    Country VARCHAR(255),\n",
    "    City VARCHAR(255),\n",
    "    State VARCHAR(255),\n",
    "    PostalCode VARCHAR(6),\n",
    "    Region VARCHAR(20),\n",
    "    ProductID VARCHAR(15),\n",
    "    Category VARCHAR(255),\n",
    "    SubCategory VARCHAR(255),\n",
    "    ProductName VARCHAR(255),\n",
    "    Sales DECIMAL(10, 5),\n",
    "    Quantity INT,\n",
    "    Discount DECIMAL(5, 2),\n",
    "    Profit DECIMAL(10, 5)\n",
    ")"
   ]
  },
  {
   "cell_type": "code",
   "execution_count": null,
   "metadata": {},
   "outputs": [],
   "source": [
    "%%sql\n",
    "COPY SuperStore(\n",
    "    RowID,\n",
    "    OrderID,\n",
    "    OrderDate,\n",
    "    ShipDate,\n",
    "    ShipMode,\n",
    "    CustomerID,\n",
    "    CustomerName,\n",
    "    Segment,\n",
    "    Country,\n",
    "    City,\n",
    "    State,\n",
    "    PostalCode,\n",
    "    Region,\n",
    "    ProductID,\n",
    "    Category,\n",
    "    SubCategory,\n",
    "    ProductName,\n",
    "    Sales,\n",
    "    Quantity,\n",
    "    Discount,\n",
    "    Profit\n",
    ")\n",
    "FROM '/Users/shirleymalefane/Desktop/superstore_dataset_analysis/superstore_update.csv'\n",
    "DELIMITER ','\n",
    "CSV HEADER;"
   ]
  }
 ],
 "metadata": {
  "colab": {
   "collapsed_sections": [],
   "name": "Numbers and Strings.ipynb",
   "provenance": [],
   "version": "0.3.2"
  },
  "kernelspec": {
   "display_name": "base",
   "language": "python",
   "name": "python3"
  },
  "language_info": {
   "codemirror_mode": {
    "name": "ipython",
    "version": 3
   },
   "file_extension": ".py",
   "mimetype": "text/x-python",
   "name": "python",
   "nbconvert_exporter": "python",
   "pygments_lexer": "ipython3",
   "version": "3.7.6"
  }
 },
 "nbformat": 4,
 "nbformat_minor": 2
}
